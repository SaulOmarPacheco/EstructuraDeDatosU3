{
  "nbformat": 4,
  "nbformat_minor": 0,
  "metadata": {
    "colab": {
      "provenance": [],
      "authorship_tag": "ABX9TyMArSjxrhtZ1Iwm3K37FwBz",
      "include_colab_link": true
    },
    "kernelspec": {
      "name": "python3",
      "display_name": "Python 3"
    },
    "language_info": {
      "name": "python"
    }
  },
  "cells": [
    {
      "cell_type": "markdown",
      "metadata": {
        "id": "view-in-github",
        "colab_type": "text"
      },
      "source": [
        "<a href=\"https://colab.research.google.com/github/SaulOmarPacheco/EstructuraDeDatosU3/blob/main/ActividadArbol2.ipynb\" target=\"_parent\"><img src=\"https://colab.research.google.com/assets/colab-badge.svg\" alt=\"Open In Colab\"/></a>"
      ]
    },
    {
      "cell_type": "code",
      "execution_count": 8,
      "metadata": {
        "colab": {
          "base_uri": "https://localhost:8080/"
        },
        "id": "vFb0rSwjUiHO",
        "outputId": "a32ab51f-4e0a-43be-a953-73a12559f2e8"
      },
      "outputs": [
        {
          "output_type": "stream",
          "name": "stdout",
          "text": [
            "Raiz\n",
            "Izquierda\n",
            "Izquierda 2\n",
            "Izquierda - Derecha\n",
            "Derecha\n"
          ]
        }
      ],
      "source": [
        "class Arbol(object):\n",
        "  def __init__(self):\n",
        "    self.der=None\n",
        "    self.izq=None\n",
        "    self.data=None\n",
        "\n",
        "raiz=Arbol()\n",
        "raiz.data=\"Raiz\"\n",
        "raiz.izq=Arbol()\n",
        "raiz.izq.data=\"Izquierda\"\n",
        "raiz.der=Arbol()\n",
        "raiz.der.data=\"Derecha\"\n",
        "\n",
        "raiz.izq.izq=Arbol()\n",
        "raiz.izq.izq.data=\"Izquierda 2\"\n",
        "raiz.izq.der=Arbol()\n",
        "raiz.izq.der.data=\"Izquierda - Derecha\"\n",
        "print(raiz.data)\n",
        "print(raiz.izq.data)\n",
        "print(raiz.izq.izq.data)\n",
        "print(raiz.izq.der.data)\n",
        "print(raiz.der.data)\n",
        "\n"
      ]
    }
  ]
}