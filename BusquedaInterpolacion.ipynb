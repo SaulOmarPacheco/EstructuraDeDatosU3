{
  "nbformat": 4,
  "nbformat_minor": 0,
  "metadata": {
    "colab": {
      "provenance": [],
      "authorship_tag": "ABX9TyOv7Misl45KwlR8LYZ2v9GI",
      "include_colab_link": true
    },
    "kernelspec": {
      "name": "python3",
      "display_name": "Python 3"
    },
    "language_info": {
      "name": "python"
    }
  },
  "cells": [
    {
      "cell_type": "markdown",
      "metadata": {
        "id": "view-in-github",
        "colab_type": "text"
      },
      "source": [
        "<a href=\"https://colab.research.google.com/github/SaulOmarPacheco/EstructuraDeDatosU3/blob/main/BusquedaInterpolacion.ipynb\" target=\"_parent\"><img src=\"https://colab.research.google.com/assets/colab-badge.svg\" alt=\"Open In Colab\"/></a>"
      ]
    },
    {
      "cell_type": "code",
      "execution_count": 1,
      "metadata": {
        "colab": {
          "base_uri": "https://localhost:8080/"
        },
        "id": "-QQRJTM6D_yA",
        "outputId": "08e35f2d-06dd-4788-b46d-f89f79cc9bca"
      },
      "outputs": [
        {
          "output_type": "stream",
          "name": "stdout",
          "text": [
            "5\n"
          ]
        }
      ],
      "source": [
        "def InterpolationSearch(lys, val):\n",
        "    low = 0\n",
        "    high = len(lys) - 1\n",
        "\n",
        "    while low <= high and val >= lys[low] and val <= lys[high]:\n",
        "        index = low + int(((float(high - low) / (lys[high] - lys[low])) * (val - lys[low])))\n",
        "\n",
        "        if lys[index] == val:\n",
        "            return index\n",
        "\n",
        "        if lys[index] < val:\n",
        "            low = index + 1\n",
        "        else:\n",
        "            high = index - 1\n",
        "\n",
        "    return -1\n",
        "print(InterpolationSearch([1,2,3,4,5,6,7,8], 6))"
      ]
    }
  ]
}