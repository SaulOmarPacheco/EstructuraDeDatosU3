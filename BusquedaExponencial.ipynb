{
  "nbformat": 4,
  "nbformat_minor": 0,
  "metadata": {
    "colab": {
      "provenance": [],
      "authorship_tag": "ABX9TyPgHuWqSH+yVmTFzn3fluik",
      "include_colab_link": true
    },
    "kernelspec": {
      "name": "python3",
      "display_name": "Python 3"
    },
    "language_info": {
      "name": "python"
    }
  },
  "cells": [
    {
      "cell_type": "markdown",
      "metadata": {
        "id": "view-in-github",
        "colab_type": "text"
      },
      "source": [
        "<a href=\"https://colab.research.google.com/github/SaulOmarPacheco/EstructuraDeDatosU3/blob/main/BusquedaExponencial.ipynb\" target=\"_parent\"><img src=\"https://colab.research.google.com/assets/colab-badge.svg\" alt=\"Open In Colab\"/></a>"
      ]
    },
    {
      "cell_type": "code",
      "execution_count": 2,
      "metadata": {
        "colab": {
          "base_uri": "https://localhost:8080/"
        },
        "id": "EGXp_AZnDXyE",
        "outputId": "e859c4c4-8aec-43d7-960d-daacd200fcac"
      },
      "outputs": [
        {
          "output_type": "stream",
          "name": "stdout",
          "text": [
            "2\n"
          ]
        }
      ],
      "source": [
        "def BinarySearch(lys, val):\n",
        "    first = 0\n",
        "    last = len(lys) - 1\n",
        "    index = -1\n",
        "\n",
        "    while (first <= last) and (index == -1):\n",
        "        mid = (first + last) // 2\n",
        "\n",
        "        if lys[mid] == val:\n",
        "            index = mid\n",
        "        else:\n",
        "            if val < lys[mid]:\n",
        "                last = mid - 1\n",
        "            else:\n",
        "                first = mid + 1\n",
        "\n",
        "    return index\n",
        "\n",
        "def ExponentialSearch(lys, val):\n",
        "    if lys[0] == val:\n",
        "        return 0\n",
        "\n",
        "    index = 1\n",
        "\n",
        "    while index < len(lys) and lys[index] <= val:\n",
        "        index = index * 2\n",
        "\n",
        "    return BinarySearch(lys[:min(index, len(lys))], val)\n",
        "print(ExponentialSearch([1,2,3,4,5,6,7,8],3))"
      ]
    }
  ]
}