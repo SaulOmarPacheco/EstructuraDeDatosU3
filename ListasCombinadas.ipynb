{
  "nbformat": 4,
  "nbformat_minor": 0,
  "metadata": {
    "colab": {
      "provenance": [],
      "authorship_tag": "ABX9TyNkcGm7VuEFuGtDweIVER9l",
      "include_colab_link": true
    },
    "kernelspec": {
      "name": "python3",
      "display_name": "Python 3"
    },
    "language_info": {
      "name": "python"
    }
  },
  "cells": [
    {
      "cell_type": "markdown",
      "metadata": {
        "id": "view-in-github",
        "colab_type": "text"
      },
      "source": [
        "<a href=\"https://colab.research.google.com/github/SaulOmarPacheco/EstructuraDeDatosU3/blob/main/ListasCombinadas.ipynb\" target=\"_parent\"><img src=\"https://colab.research.google.com/assets/colab-badge.svg\" alt=\"Open In Colab\"/></a>"
      ]
    },
    {
      "cell_type": "code",
      "execution_count": 2,
      "metadata": {
        "colab": {
          "base_uri": "https://localhost:8080/"
        },
        "id": "ZYNBiiwQGohV",
        "outputId": "1c7eb027-ba7a-4720-da5e-604ab2aadb4b"
      },
      "outputs": [
        {
          "output_type": "stream",
          "name": "stdout",
          "text": [
            "Lista sin ordenar: [5, 2, 1, 8, 4]\n",
            "Lista ordenada: [1, 2, 4, 5, 8]\n"
          ]
        }
      ],
      "source": [
        "def merge(left_list, right_list):\n",
        "  sorted_list = []\n",
        "\n",
        "  left_list_index = 0\n",
        "  right_list_index = 0\n",
        "\n",
        "  # Creamos variables para las longitudes de la lista\n",
        "  left_list_length, right_list_length = len(left_list), len(right_list)\n",
        "\n",
        "  for i in range(left_list_length + right_list_length):\n",
        "    if left_list_index < left_list_length and right_list_index < right_list_length:\n",
        "\n",
        "      # Comprobamos el valor de cada elemento inicial de las listas para ver\n",
        "      # cual es menor. Si el elemento al principio de la lista izquierda es más\n",
        "      # pequeño, se añade a la lista ordenada\n",
        "\n",
        "      if left_list[left_list_index] <= right_list[right_list_index]:\n",
        "        sorted_list.append(left_list[left_list_index])\n",
        "        left_list_index += 1\n",
        "\n",
        "      # Si el elemento al principio de la lista de la derecha es más pequeño,\n",
        "      # se añade a la lista ordenada\n",
        "      else:\n",
        "        sorted_list.append(right_list[right_list_index])\n",
        "        right_list_index += 1\n",
        "\n",
        "    # Si llegamos al final de la lista de la izquierda, añadimos los elementos\n",
        "    # de la lista de la derecha\n",
        "    elif left_list_index == left_list_length:\n",
        "      sorted_list.append(right_list[right_list_index])\n",
        "      right_list_index += 1\n",
        "\n",
        "    # Si llegamos al final de la lista de la derecha, añadimos los elementos\n",
        "    # de la lista de la izquierda\n",
        "    elif right_list_index == right_list_length:\n",
        "      sorted_list.append(left_list[left_list_index])\n",
        "      left_list_index += 1\n",
        "\n",
        "  return sorted_list\n",
        "\n",
        "\n",
        "def mergeSort(nums):\n",
        "    # Si la lista tiene un solo elemento, devuélvelo\n",
        "    if len(nums) <= 1:\n",
        "        return nums\n",
        "\n",
        "    # Obtenemos el indice medio para separar la lista en dos\n",
        "    mid = len(nums) // 2\n",
        "\n",
        "    # Ordenamos y fusionamos cada mitad\n",
        "    left_list = mergeSort(nums[:mid])\n",
        "    right_list = mergeSort(nums[mid:])\n",
        "\n",
        "    # Fusionamos las listas ordenadas en una nueva ordenada\n",
        "    return merge(left_list, right_list)\n",
        "\n",
        "# Comprobamos el funcionamiento\n",
        "listaNumerosAleatorios = [5, 2, 1, 8, 4]\n",
        "\n",
        "print(\"Lista sin ordenar:\", listaNumerosAleatorios)\n",
        "listaNumerosAleatorios = mergeSort(listaNumerosAleatorios)\n",
        "print(\"Lista ordenada:\", listaNumerosAleatorios)\n"
      ]
    }
  ]
}