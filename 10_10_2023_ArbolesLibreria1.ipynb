{
  "nbformat": 4,
  "nbformat_minor": 0,
  "metadata": {
    "colab": {
      "provenance": [],
      "authorship_tag": "ABX9TyPQwx5qAz3mnrNtOfEru42F",
      "include_colab_link": true
    },
    "kernelspec": {
      "name": "python3",
      "display_name": "Python 3"
    },
    "language_info": {
      "name": "python"
    }
  },
  "cells": [
    {
      "cell_type": "markdown",
      "metadata": {
        "id": "view-in-github",
        "colab_type": "text"
      },
      "source": [
        "<a href=\"https://colab.research.google.com/github/SaulOmarPacheco/EstructuraDeDatosU3/blob/main/10_10_2023_ArbolesLibreria1.ipynb\" target=\"_parent\"><img src=\"https://colab.research.google.com/assets/colab-badge.svg\" alt=\"Open In Colab\"/></a>"
      ]
    },
    {
      "cell_type": "code",
      "execution_count": 62,
      "metadata": {
        "colab": {
          "base_uri": "https://localhost:8080/"
        },
        "id": "bMnygt2JLQxT",
        "outputId": "dbac43cc-6bf1-4ce0-99d1-4040e3794a73"
      },
      "outputs": [
        {
          "output_type": "stream",
          "name": "stdout",
          "text": [
            "10\n",
            "34\n",
            "45\n",
            "50\n",
            "89\n",
            "\n",
            "\n",
            "45\n",
            "34\n",
            "50\n",
            "10\n",
            "89\n",
            "\n",
            "\n",
            "45\n",
            "50\n",
            "34\n",
            "89\n",
            "10\n",
            "\n",
            "\n",
            "Juan (Papa)\n",
            "Mario (Hijo)\n",
            "Pepe (Nieto Mario)\n",
            "Fernando (Nieto Mario)\n",
            "Lola (Hija)\n",
            "\n",
            "\n",
            "Pepe (Nieto Mario)\n",
            "Mario (Hijo)\n",
            "Fernando (Nieto Mario)\n",
            "Juan (Papa)\n",
            "Lola (Hija)\n",
            "\n",
            "\n",
            "Pepe (Nieto Mario)\n",
            "Fernando (Nieto Mario)\n",
            "Mario (Hijo)\n",
            "Lola (Hija)\n",
            "Juan (Papa)\n"
          ]
        }
      ],
      "source": [
        "class Node:\n",
        "  def __init__(self, data):\n",
        "    self.left = None\n",
        "    self.right = None\n",
        "    self.data = data\n",
        "\n",
        "  def preorder(self, node):\n",
        "    if node:\n",
        "      print(node.data)\n",
        "      self.preorder(node.left)\n",
        "      self.preorder(node.right)\n",
        "\n",
        "  def inorder(self, node):\n",
        "    if node:\n",
        "      self.inorder(node.left)\n",
        "      print(node.data)\n",
        "      self.inorder(node.right)\n",
        "\n",
        "  def postorder(self, node):\n",
        "    if node:\n",
        "      self.postorder(node.left)\n",
        "      self.postorder(node.right)\n",
        "      print(node.data)\n",
        "\n",
        "\n",
        "root = Node(10)\n",
        "root.left = Node(34)\n",
        "root.right = Node(89)\n",
        "root.left.left = Node(45)\n",
        "root.left.right = Node(50)\n",
        "\n",
        "root.preorder(root)\n",
        "print(\"\\n\")\n",
        "root.inorder(root)\n",
        "print(\"\\n\")\n",
        "root.postorder(root)\n",
        "\n",
        "root2=Node(\"Juan (Papa)\")\n",
        "root2.left=Node(\"Mario (Hijo)\")\n",
        "root2.right=Node(\"Lola (Hija)\")\n",
        "root2.left.left=Node(\"Pepe (Nieto Mario)\")\n",
        "root2.left.right=Node(\"Fernando (Nieto Mario)\")\n",
        "\n",
        "print(\"\\n\")\n",
        "root2.preorder(root2)\n",
        "print(\"\\n\")\n",
        "root2.inorder(root2)\n",
        "print(\"\\n\")\n",
        "root2.postorder(root2)"
      ]
    }
  ]
}