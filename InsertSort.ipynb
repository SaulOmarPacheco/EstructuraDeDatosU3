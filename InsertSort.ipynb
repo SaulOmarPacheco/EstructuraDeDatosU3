{
  "nbformat": 4,
  "nbformat_minor": 0,
  "metadata": {
    "colab": {
      "provenance": [],
      "authorship_tag": "ABX9TyMBm+aKsjDcM6ZyAQmUtpV5",
      "include_colab_link": true
    },
    "kernelspec": {
      "name": "python3",
      "display_name": "Python 3"
    },
    "language_info": {
      "name": "python"
    }
  },
  "cells": [
    {
      "cell_type": "markdown",
      "metadata": {
        "id": "view-in-github",
        "colab_type": "text"
      },
      "source": [
        "<a href=\"https://colab.research.google.com/github/SaulOmarPacheco/EstructuraDeDatosU3/blob/main/InsertSort.ipynb\" target=\"_parent\"><img src=\"https://colab.research.google.com/assets/colab-badge.svg\" alt=\"Open In Colab\"/></a>"
      ]
    },
    {
      "cell_type": "code",
      "execution_count": 1,
      "metadata": {
        "colab": {
          "base_uri": "https://localhost:8080/"
        },
        "id": "KPYn52LrFu6M",
        "outputId": "7be4dfa3-5e0e-4fc9-c9f9-21bc51140ab0"
      },
      "outputs": [
        {
          "output_type": "stream",
          "name": "stdout",
          "text": [
            "Lista sin ordenar: [5, 2, 1, 8, 4]\n",
            "Lista ordenada: [1, 2, 4, 5, 8]\n"
          ]
        }
      ],
      "source": [
        "def insertSort(nums):\n",
        "    for i in range(1, len(nums)):\n",
        "        item_to_insert=nums[i]\n",
        "        j=i-1\n",
        "        while j>=0 and nums[j]>item_to_insert:\n",
        "            nums[j+1]=nums[j]\n",
        "            j-=1\n",
        "        nums[j+1]=item_to_insert\n",
        "\n",
        "listaNumerosAleatorios=[5,2,1,8,4]\n",
        "print(\"Lista sin ordenar: \"+str(listaNumerosAleatorios))\n",
        "insertSort(listaNumerosAleatorios)\n",
        "print(\"Lista ordenada: \"+str(listaNumerosAleatorios))"
      ]
    }
  ]
}