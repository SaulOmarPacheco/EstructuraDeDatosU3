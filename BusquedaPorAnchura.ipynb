{
  "nbformat": 4,
  "nbformat_minor": 0,
  "metadata": {
    "colab": {
      "provenance": [],
      "authorship_tag": "ABX9TyNK2KxwlJopFBE0K+PkIi4K",
      "include_colab_link": true
    },
    "kernelspec": {
      "name": "python3",
      "display_name": "Python 3"
    },
    "language_info": {
      "name": "python"
    }
  },
  "cells": [
    {
      "cell_type": "markdown",
      "metadata": {
        "id": "view-in-github",
        "colab_type": "text"
      },
      "source": [
        "<a href=\"https://colab.research.google.com/github/SaulOmarPacheco/EstructuraDeDatosU3/blob/main/BusquedaPorAnchura.ipynb\" target=\"_parent\"><img src=\"https://colab.research.google.com/assets/colab-badge.svg\" alt=\"Open In Colab\"/></a>"
      ]
    },
    {
      "cell_type": "code",
      "execution_count": null,
      "metadata": {
        "colab": {
          "base_uri": "https://localhost:8080/"
        },
        "id": "XTFFkJc2NCZq",
        "outputId": "198d03d5-abe3-4784-afa1-56900f78016d"
      },
      "outputs": [
        {
          "output_type": "stream",
          "name": "stdout",
          "text": [
            "{'BuenosAires': ['San Pedro', 'San Luis', 'Bahia Blanca', 'San Luis'], 'San Luis': ['BuenosAires', 'BuenosAires', 'Mendoza', 'Villa Maria', 'Bahia Blanca'], 'San Pedro': ['BuenosAires', 'Rosario'], 'Rosario': ['Villa Maria', 'San Pedro'], 'Cordoba': ['Villa Maria'], 'Villa Maria': ['San Luis', 'Cordoba', 'Rosario'], 'Bahia Blanca': ['BuenosAires', 'San Luis'], 'Mendoza': ['San Luis']}\n",
            "BuenosAires\n",
            "San Pedro\n",
            "San Luis\n",
            "Bahia Blanca\n"
          ]
        }
      ],
      "source": [
        "from collections import deque\n",
        "class Grafo(object):\n",
        "\n",
        "    def __init__(self):\n",
        "        self.relaciones = {}\n",
        "\n",
        "    def __str__(self):\n",
        "        return str(self.relaciones)\n",
        "\n",
        "    def agregar(self, elemento):\n",
        "        self.relaciones.update({elemento: []})\n",
        "\n",
        "    def relacionar(self, elemento1, elemento2):\n",
        "        self.relacionarUnilateral(elemento1, elemento2)\n",
        "        self.relacionarUnilateral(elemento2, elemento1)\n",
        "\n",
        "    def relacionarUnilateral(self, origen, destino):\n",
        "        self.relaciones[origen].append(destino)\n",
        "\n",
        "\n",
        "def anchoPrimero(grafo, elementoInicial, funcion, cola=deque(), elementosRecorridos=[]):\n",
        "    if elementoInicial not in elementosRecorridos:\n",
        "        funcion(elementoInicial)\n",
        "        elementosRecorridos.append(elementoInicial)\n",
        "\n",
        "        if len(grafo.relaciones[elementoInicial]) > 0:\n",
        "            cola.extend(grafo.relaciones[elementoInicial])\n",
        "\n",
        "        if len(cola) != 0:\n",
        "            anchoPrimero(grafo, cola.popleft(), funcion, cola, elementosRecorridos)\n",
        "def imprimir (elemento):\n",
        "  print(elemento)\n",
        "\n",
        "grafo = Grafo()\n",
        "buenosAires = \"BuenosAires\"\n",
        "sanPedro = \"San Pedro\"\n",
        "rosario = \"Rosario\"\n",
        "cordoba = \"Cordoba\"\n",
        "villaMaria = \"Villa Maria\"\n",
        "sanLuis = \"San Luis\"\n",
        "mendoza = \"Mendoza\"\n",
        "bahiaBlanca = \"Bahia Blanca\"\n",
        "\n",
        "grafo.agregar(buenosAires)\n",
        "grafo.agregar(sanLuis)\n",
        "grafo.agregar(sanPedro)\n",
        "grafo.agregar(rosario)\n",
        "grafo.agregar(cordoba)\n",
        "grafo.agregar(villaMaria)\n",
        "grafo.agregar(bahiaBlanca)\n",
        "grafo.agregar(mendoza)\n",
        "\n",
        "grafo.relacionar(buenosAires, sanPedro)\n",
        "grafo.relacionar(buenosAires, sanLuis)\n",
        "grafo.relacionar(buenosAires, bahiaBlanca)\n",
        "grafo.relacionar(buenosAires, sanLuis)\n",
        "grafo.relacionar(sanLuis, mendoza)\n",
        "grafo.relacionar(sanLuis, villaMaria)\n",
        "grafo.relacionar(sanLuis, bahiaBlanca)\n",
        "grafo.relacionar(villaMaria, cordoba)\n",
        "grafo.relacionar(villaMaria, rosario)\n",
        "grafo.relacionar(rosario, sanPedro)\n",
        "\n",
        "print(grafo)\n",
        "\n",
        "anchoPrimero(grafo, buenosAires, imprimir)"
      ]
    }
  ]
}