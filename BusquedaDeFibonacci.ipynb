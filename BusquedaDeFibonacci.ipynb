{
  "nbformat": 4,
  "nbformat_minor": 0,
  "metadata": {
    "colab": {
      "provenance": [],
      "authorship_tag": "ABX9TyObdrVJVYbHPMCC9/fErjv8",
      "include_colab_link": true
    },
    "kernelspec": {
      "name": "python3",
      "display_name": "Python 3"
    },
    "language_info": {
      "name": "python"
    }
  },
  "cells": [
    {
      "cell_type": "markdown",
      "metadata": {
        "id": "view-in-github",
        "colab_type": "text"
      },
      "source": [
        "<a href=\"https://colab.research.google.com/github/SaulOmarPacheco/EstructuraDeDatosU3/blob/main/BusquedaDeFibonacci.ipynb\" target=\"_parent\"><img src=\"https://colab.research.google.com/assets/colab-badge.svg\" alt=\"Open In Colab\"/></a>"
      ]
    },
    {
      "cell_type": "code",
      "execution_count": 1,
      "metadata": {
        "colab": {
          "base_uri": "https://localhost:8080/"
        },
        "id": "_eGMgCmqC14T",
        "outputId": "5e8e1f16-2908-4a8c-f3e9-e36e289017c7"
      },
      "outputs": [
        {
          "output_type": "stream",
          "name": "stdout",
          "text": [
            "5\n"
          ]
        }
      ],
      "source": [
        "def FibonacciSearch(lys, val):\n",
        "    fibM_minus_2 = 0\n",
        "    fibM_minus_1 = 1\n",
        "    fibM = fibM_minus_1 + fibM_minus_2\n",
        "\n",
        "    while fibM < len(lys):\n",
        "        fibM_minus_2 = fibM_minus_1\n",
        "        fibM_minus_1 = fibM\n",
        "        fibM = fibM_minus_1 + fibM_minus_2\n",
        "\n",
        "    index = -1\n",
        "\n",
        "    while fibM > 1:\n",
        "        i = min(index + fibM_minus_2, len(lys) - 1)\n",
        "\n",
        "        if lys[i] < val:\n",
        "            fibM = fibM_minus_1\n",
        "            fibM_minus_1 = fibM_minus_2\n",
        "            fibM_minus_2 = fibM - fibM_minus_1\n",
        "            index = i\n",
        "        elif lys[i] > val:\n",
        "            fibM = fibM_minus_2\n",
        "            fibM_minus_1 = fibM_minus_1 - fibM_minus_2\n",
        "            fibM_minus_2 = fibM - fibM_minus_1\n",
        "        else:\n",
        "            return i\n",
        "\n",
        "    if fibM_minus_1 and index < len(lys) - 1 and lys[index + 1] == val:\n",
        "        return index + 1\n",
        "\n",
        "    return -1\n",
        "print(FibonacciSearch([1,2,3,4,5,6,7,8,9,10,11], 6))"
      ]
    }
  ]
}