{
  "nbformat": 4,
  "nbformat_minor": 0,
  "metadata": {
    "colab": {
      "provenance": [],
      "authorship_tag": "ABX9TyNVcpR1dZiuLvsrIaPrfXPX",
      "include_colab_link": true
    },
    "kernelspec": {
      "name": "python3",
      "display_name": "Python 3"
    },
    "language_info": {
      "name": "python"
    }
  },
  "cells": [
    {
      "cell_type": "markdown",
      "metadata": {
        "id": "view-in-github",
        "colab_type": "text"
      },
      "source": [
        "<a href=\"https://colab.research.google.com/github/SaulOmarPacheco/EstructuraDeDatosU3/blob/main/ProfundidadPrimero.ipynb\" target=\"_parent\"><img src=\"https://colab.research.google.com/assets/colab-badge.svg\" alt=\"Open In Colab\"/></a>"
      ]
    },
    {
      "cell_type": "code",
      "execution_count": 8,
      "metadata": {
        "colab": {
          "base_uri": "https://localhost:8080/"
        },
        "id": "HZTNQiBpMimH",
        "outputId": "e4d44679-bf92-4ca3-c8db-1460d80518b8"
      },
      "outputs": [
        {
          "output_type": "stream",
          "name": "stdout",
          "text": [
            "{'BuenosAires': ['San Pedro', 'San Luis', 'Bahia Blanca', 'San Luis'], 'San Luis': ['BuenosAires', 'BuenosAires', 'Mendoza', 'Villa Maria', 'Bahia Blanca'], 'San Pedro': ['BuenosAires', 'Rosario'], 'Rosario': ['Villa Maria', 'San Pedro'], 'Cordoba': ['Villa Maria'], 'Villa Maria': ['San Luis', 'Cordoba', 'Rosario'], 'Bahia Blanca': ['BuenosAires', 'San Luis'], 'Mendoza': ['San Luis']}\n",
            "BuenosAires\n",
            "San Pedro\n",
            "Rosario\n",
            "Villa Maria\n",
            "San Luis\n",
            "Mendoza\n",
            "Bahia Blanca\n",
            "Cordoba\n",
            "None\n"
          ]
        }
      ],
      "source": [
        "class Grafo(object):\n",
        "\n",
        "    def __init__(self):\n",
        "        self.relaciones = {}\n",
        "\n",
        "    def __str__(self):\n",
        "        return str(self.relaciones)\n",
        "\n",
        "    def agregar(self, elemento):\n",
        "        self.relaciones.update({elemento: []})\n",
        "\n",
        "    def relacionar(self, elemento1, elemento2):\n",
        "        self.relacionarUnilateral(elemento1, elemento2)\n",
        "        self.relacionarUnilateral(elemento2, elemento1)\n",
        "\n",
        "    def relacionarUnilateral(self, origen, destino):\n",
        "        self.relaciones[origen].append(destino)\n",
        "\n",
        "def profundidadPrimero(grafo, elementoInicial, funcion, elementosRecorridos=[]):\n",
        "    if elementoInicial in elementosRecorridos:\n",
        "        return\n",
        "\n",
        "    funcion(elementoInicial)\n",
        "    elementosRecorridos.append(elementoInicial)\n",
        "\n",
        "    for vecino in grafo.relaciones[elementoInicial]:\n",
        "        profundidadPrimero(grafo, vecino, funcion, elementosRecorridos)\n",
        "\n",
        "def imprimir (elemento):\n",
        "  print(elemento)\n",
        "\n",
        "\n",
        "grafo = Grafo()\n",
        "buenosAires = \"BuenosAires\"\n",
        "sanPedro = \"San Pedro\"\n",
        "rosario = \"Rosario\"\n",
        "cordoba = \"Cordoba\"\n",
        "villaMaria = \"Villa Maria\"\n",
        "sanLuis = \"San Luis\"\n",
        "mendoza = \"Mendoza\"\n",
        "bahiaBlanca = \"Bahia Blanca\"\n",
        "\n",
        "grafo.agregar(buenosAires)\n",
        "grafo.agregar(sanLuis)\n",
        "grafo.agregar(sanPedro)\n",
        "grafo.agregar(rosario)\n",
        "grafo.agregar(cordoba)\n",
        "grafo.agregar(villaMaria)\n",
        "grafo.agregar(bahiaBlanca)\n",
        "grafo.agregar(mendoza)\n",
        "\n",
        "grafo.relacionar(buenosAires, sanPedro)\n",
        "grafo.relacionar(buenosAires, sanLuis)\n",
        "grafo.relacionar(buenosAires, bahiaBlanca)\n",
        "grafo.relacionar(buenosAires, sanLuis)\n",
        "grafo.relacionar(sanLuis, mendoza)\n",
        "grafo.relacionar(sanLuis, villaMaria)\n",
        "grafo.relacionar(sanLuis, bahiaBlanca)\n",
        "grafo.relacionar(villaMaria, cordoba)\n",
        "grafo.relacionar(villaMaria, rosario)\n",
        "grafo.relacionar(rosario, sanPedro)\n",
        "\n",
        "print(grafo)\n",
        "\n",
        "print(profundidadPrimero(grafo, buenosAires, imprimir))\n",
        "\n",
        "\n",
        "\n"
      ]
    }
  ]
}