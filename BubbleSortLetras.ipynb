{
  "nbformat": 4,
  "nbformat_minor": 0,
  "metadata": {
    "colab": {
      "provenance": [],
      "authorship_tag": "ABX9TyN8NNWi7Pe/8zUqESUYeYEo",
      "include_colab_link": true
    },
    "kernelspec": {
      "name": "python3",
      "display_name": "Python 3"
    },
    "language_info": {
      "name": "python"
    }
  },
  "cells": [
    {
      "cell_type": "markdown",
      "metadata": {
        "id": "view-in-github",
        "colab_type": "text"
      },
      "source": [
        "<a href=\"https://colab.research.google.com/github/SaulOmarPacheco/EstructuraDeDatosU3/blob/main/BubbleSortLetras.ipynb\" target=\"_parent\"><img src=\"https://colab.research.google.com/assets/colab-badge.svg\" alt=\"Open In Colab\"/></a>"
      ]
    },
    {
      "cell_type": "code",
      "execution_count": 1,
      "metadata": {
        "colab": {
          "base_uri": "https://localhost:8080/"
        },
        "id": "WKpx1VYWFJBk",
        "outputId": "f1a8bc7b-51b2-4dd7-a762-1a8c027ad197"
      },
      "outputs": [
        {
          "output_type": "stream",
          "name": "stdout",
          "text": [
            "['Angel', 'Louis', 'Mario', 'Pepe']\n"
          ]
        }
      ],
      "source": [
        "def bubbleSortLetras(nums):\n",
        "    intercambio=True\n",
        "    while intercambio:\n",
        "        intercambio = False\n",
        "        for i in range(len(nums)-1):\n",
        "            if nums[i]>nums[i+1]:\n",
        "                nums[i], nums[i+1] = nums[i+1], nums[i]\n",
        "\n",
        "                intercambio=True\n",
        "listaLetrasAleatorios=['Pepe','Angel','Louis','Mario']\n",
        "bubbleSortLetras(listaLetrasAleatorios)\n",
        "print(listaLetrasAleatorios)"
      ]
    }
  ]
}