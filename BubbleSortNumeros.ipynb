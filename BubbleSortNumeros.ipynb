{
  "nbformat": 4,
  "nbformat_minor": 0,
  "metadata": {
    "colab": {
      "provenance": [],
      "authorship_tag": "ABX9TyNyrUI/wzxzFZYTNI0NlCcO",
      "include_colab_link": true
    },
    "kernelspec": {
      "name": "python3",
      "display_name": "Python 3"
    },
    "language_info": {
      "name": "python"
    }
  },
  "cells": [
    {
      "cell_type": "markdown",
      "metadata": {
        "id": "view-in-github",
        "colab_type": "text"
      },
      "source": [
        "<a href=\"https://colab.research.google.com/github/SaulOmarPacheco/EstructuraDeDatosU3/blob/main/BubbleSortNumeros.ipynb\" target=\"_parent\"><img src=\"https://colab.research.google.com/assets/colab-badge.svg\" alt=\"Open In Colab\"/></a>"
      ]
    },
    {
      "cell_type": "code",
      "execution_count": 1,
      "metadata": {
        "colab": {
          "base_uri": "https://localhost:8080/"
        },
        "id": "wJ3tceVHFCdY",
        "outputId": "72756994-498d-4cad-ee3c-b9be1c29a821"
      },
      "outputs": [
        {
          "output_type": "stream",
          "name": "stdout",
          "text": [
            "[1, 2, 4, 5, 8]\n"
          ]
        }
      ],
      "source": [
        "def bubbleSort(nums):\n",
        "    intercambio=True\n",
        "    while intercambio:\n",
        "        intercambio = False\n",
        "        for i in range(len(nums)-1):\n",
        "            if nums[i]>nums[i+1]:\n",
        "                nums[i], nums[i+1] = nums[i+1], nums[i]\n",
        "\n",
        "                intercambio=True\n",
        "\n",
        "listaNumerosAleatorios=[5,2,1,8,4]\n",
        "bubbleSort(listaNumerosAleatorios)\n",
        "print(listaNumerosAleatorios)"
      ]
    }
  ]
}