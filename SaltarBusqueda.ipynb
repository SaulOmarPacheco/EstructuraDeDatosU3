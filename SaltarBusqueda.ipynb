{
  "nbformat": 4,
  "nbformat_minor": 0,
  "metadata": {
    "colab": {
      "provenance": [],
      "authorship_tag": "ABX9TyP32zywfPRTEyakSYWlFsXx",
      "include_colab_link": true
    },
    "kernelspec": {
      "name": "python3",
      "display_name": "Python 3"
    },
    "language_info": {
      "name": "python"
    }
  },
  "cells": [
    {
      "cell_type": "markdown",
      "metadata": {
        "id": "view-in-github",
        "colab_type": "text"
      },
      "source": [
        "<a href=\"https://colab.research.google.com/github/SaulOmarPacheco/EstructuraDeDatosU3/blob/main/SaltarBusqueda.ipynb\" target=\"_parent\"><img src=\"https://colab.research.google.com/assets/colab-badge.svg\" alt=\"Open In Colab\"/></a>"
      ]
    },
    {
      "cell_type": "code",
      "execution_count": 1,
      "metadata": {
        "colab": {
          "base_uri": "https://localhost:8080/"
        },
        "id": "G480vM1tCQNY",
        "outputId": "c7cc1fe0-3389-42e5-bf0f-82aa0825522f"
      },
      "outputs": [
        {
          "output_type": "stream",
          "name": "stdout",
          "text": [
            "4\n"
          ]
        }
      ],
      "source": [
        "import math\n",
        "\n",
        "def JumpSearch(lys, val):\n",
        "    length = len(lys)\n",
        "    jump = int(math.sqrt(length))\n",
        "    left, right = 0, 0\n",
        "\n",
        "    while left < length and lys[left] <= val:\n",
        "        right = min(length - 1, left + jump)\n",
        "\n",
        "        if lys[left] <= val and lys[right] >= val:\n",
        "            break\n",
        "\n",
        "        left += jump\n",
        "\n",
        "    if left >= length or lys[left] > val:\n",
        "        return -1\n",
        "\n",
        "    right = min(length - 1, right)\n",
        "    i = left\n",
        "\n",
        "    while i <= right and lys[i] <= val:\n",
        "        if lys[i] == val:\n",
        "            return i\n",
        "        i += 1\n",
        "\n",
        "    return -1\n",
        "print(JumpSearch([1,2,3,4,5,6,7,8,9], 5))"
      ]
    }
  ]
}